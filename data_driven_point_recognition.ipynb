{
  "nbformat": 4,
  "nbformat_minor": 0,
  "metadata": {
    "colab": {
      "name": "data_driven_point_recognition.ipynb",
      "provenance": [],
      "collapsed_sections": [],
      "authorship_tag": "ABX9TyNIYoktAOjKNEG6GHRrynZl",
      "include_colab_link": true
    },
    "kernelspec": {
      "name": "python3",
      "display_name": "Python 3"
    },
    "language_info": {
      "name": "python"
    },
    "gpuClass": "standard"
  },
  "cells": [
    {
      "cell_type": "markdown",
      "metadata": {
        "id": "view-in-github",
        "colab_type": "text"
      },
      "source": [
        "<a href=\"https://colab.research.google.com/github/Yaroshenkom/PhD/blob/nn_zern_coeff/data_driven_point_recognition.ipynb\" target=\"_parent\"><img src=\"https://colab.research.google.com/assets/colab-badge.svg\" alt=\"Open In Colab\"/></a>"
      ]
    },
    {
      "cell_type": "code",
      "source": [
        "!pip install ipdb"
      ],
      "metadata": {
        "id": "C9dNaI0edok8",
        "colab": {
          "base_uri": "https://localhost:8080/",
          "height": 884
        },
        "outputId": "b3437323-f2f1-475b-a7f5-c21628711679"
      },
      "execution_count": 1,
      "outputs": [
        {
          "output_type": "stream",
          "name": "stdout",
          "text": [
            "Looking in indexes: https://pypi.org/simple, https://us-python.pkg.dev/colab-wheels/public/simple/\n",
            "Collecting ipdb\n",
            "  Downloading ipdb-0.13.9.tar.gz (16 kB)\n",
            "Requirement already satisfied: setuptools in /usr/local/lib/python3.7/dist-packages (from ipdb) (57.4.0)\n",
            "Collecting ipython>=7.17.0\n",
            "  Downloading ipython-7.34.0-py3-none-any.whl (793 kB)\n",
            "\u001b[K     |████████████████████████████████| 793 kB 8.0 MB/s \n",
            "\u001b[?25hCollecting toml>=0.10.2\n",
            "  Downloading toml-0.10.2-py2.py3-none-any.whl (16 kB)\n",
            "Requirement already satisfied: decorator in /usr/local/lib/python3.7/dist-packages (from ipdb) (4.4.2)\n",
            "Requirement already satisfied: jedi>=0.16 in /usr/local/lib/python3.7/dist-packages (from ipython>=7.17.0->ipdb) (0.18.1)\n",
            "Requirement already satisfied: traitlets>=4.2 in /usr/local/lib/python3.7/dist-packages (from ipython>=7.17.0->ipdb) (5.1.1)\n",
            "Requirement already satisfied: backcall in /usr/local/lib/python3.7/dist-packages (from ipython>=7.17.0->ipdb) (0.2.0)\n",
            "Collecting prompt-toolkit!=3.0.0,!=3.0.1,<3.1.0,>=2.0.0\n",
            "  Downloading prompt_toolkit-3.0.30-py3-none-any.whl (381 kB)\n",
            "\u001b[K     |████████████████████████████████| 381 kB 54.3 MB/s \n",
            "\u001b[?25hRequirement already satisfied: pexpect>4.3 in /usr/local/lib/python3.7/dist-packages (from ipython>=7.17.0->ipdb) (4.8.0)\n",
            "Requirement already satisfied: pickleshare in /usr/local/lib/python3.7/dist-packages (from ipython>=7.17.0->ipdb) (0.7.5)\n",
            "Requirement already satisfied: pygments in /usr/local/lib/python3.7/dist-packages (from ipython>=7.17.0->ipdb) (2.6.1)\n",
            "Requirement already satisfied: matplotlib-inline in /usr/local/lib/python3.7/dist-packages (from ipython>=7.17.0->ipdb) (0.1.3)\n",
            "Requirement already satisfied: parso<0.9.0,>=0.8.0 in /usr/local/lib/python3.7/dist-packages (from jedi>=0.16->ipython>=7.17.0->ipdb) (0.8.3)\n",
            "Requirement already satisfied: ptyprocess>=0.5 in /usr/local/lib/python3.7/dist-packages (from pexpect>4.3->ipython>=7.17.0->ipdb) (0.7.0)\n",
            "Requirement already satisfied: wcwidth in /usr/local/lib/python3.7/dist-packages (from prompt-toolkit!=3.0.0,!=3.0.1,<3.1.0,>=2.0.0->ipython>=7.17.0->ipdb) (0.2.5)\n",
            "Building wheels for collected packages: ipdb\n",
            "  Building wheel for ipdb (setup.py) ... \u001b[?25l\u001b[?25hdone\n",
            "  Created wheel for ipdb: filename=ipdb-0.13.9-py3-none-any.whl size=11648 sha256=a40459f6855b0d18dc964c6243260faebea34536cc36255205b60c89d24e1ae7\n",
            "  Stored in directory: /root/.cache/pip/wheels/65/cd/cc/aaf92acae337a28fdd2aa4d632196a59745c8c39f76eaeed01\n",
            "Successfully built ipdb\n",
            "Installing collected packages: prompt-toolkit, toml, ipython, ipdb\n",
            "  Attempting uninstall: prompt-toolkit\n",
            "    Found existing installation: prompt-toolkit 1.0.18\n",
            "    Uninstalling prompt-toolkit-1.0.18:\n",
            "      Successfully uninstalled prompt-toolkit-1.0.18\n",
            "  Attempting uninstall: ipython\n",
            "    Found existing installation: ipython 5.5.0\n",
            "    Uninstalling ipython-5.5.0:\n",
            "      Successfully uninstalled ipython-5.5.0\n",
            "\u001b[31mERROR: pip's dependency resolver does not currently take into account all the packages that are installed. This behaviour is the source of the following dependency conflicts.\n",
            "jupyter-console 5.2.0 requires prompt-toolkit<2.0.0,>=1.0.0, but you have prompt-toolkit 3.0.30 which is incompatible.\n",
            "google-colab 1.0.0 requires ipython~=5.5.0, but you have ipython 7.34.0 which is incompatible.\u001b[0m\n",
            "Successfully installed ipdb-0.13.9 ipython-7.34.0 prompt-toolkit-3.0.30 toml-0.10.2\n"
          ]
        },
        {
          "output_type": "display_data",
          "data": {
            "application/vnd.colab-display-data+json": {
              "pip_warning": {
                "packages": [
                  "IPython",
                  "prompt_toolkit"
                ]
              }
            }
          },
          "metadata": {}
        }
      ]
    },
    {
      "cell_type": "code",
      "source": [
        "!pip install munkres"
      ],
      "metadata": {
        "colab": {
          "base_uri": "https://localhost:8080/"
        },
        "id": "wbDaI3noIAQd",
        "outputId": "448a85da-f710-4bc4-f74d-d167399ce65b"
      },
      "execution_count": 2,
      "outputs": [
        {
          "output_type": "stream",
          "name": "stdout",
          "text": [
            "Looking in indexes: https://pypi.org/simple, https://us-python.pkg.dev/colab-wheels/public/simple/\n",
            "Collecting munkres\n",
            "  Downloading munkres-1.1.4-py2.py3-none-any.whl (7.0 kB)\n",
            "Installing collected packages: munkres\n",
            "Successfully installed munkres-1.1.4\n"
          ]
        }
      ]
    },
    {
      "cell_type": "code",
      "execution_count": 3,
      "metadata": {
        "id": "SKVxY5ZnL2Ua"
      },
      "outputs": [],
      "source": [
        "import ipdb\n",
        "\n",
        "from munkres import Munkres\n",
        "\n",
        "# import tensorflow as tf\n",
        "# from tensorflow.keras.utils import plot_model\n",
        "\n",
        "import os\n",
        "import math\n",
        "import cmath\n",
        "import numpy as np\n",
        "import numpy.matlib\n",
        "import scipy as sc\n",
        "import PIL\n",
        "\n",
        "import skimage\n",
        "\n",
        "from skimage import morphology\n",
        "from PIL import Image\n",
        "from tensorflow import keras\n",
        "from keras import layers\n",
        "\n",
        "import sklearn\n",
        "from sklearn.neighbors import NearestNeighbors\n",
        "from sklearn.preprocessing import PolynomialFeatures\n",
        "\n",
        "%matplotlib inline\n",
        "import matplotlib.pyplot as plt\n"
      ]
    },
    {
      "cell_type": "markdown",
      "source": [
        "Also we should set the random seed for all necessary packages (TensorFlow, Numpy, etc.)"
      ],
      "metadata": {
        "id": "cS0E3uouZ_GC"
      }
    },
    {
      "cell_type": "code",
      "source": [
        "seed = 4962\n",
        "# For TemsorFlow\n",
        "# rng = tf.random.experimental.Generator.from_seed(seed)\n",
        "# For Numpy\n",
        "rng = np.random.default_rng(seed)"
      ],
      "metadata": {
        "id": "9bg24VX7a_Mt"
      },
      "execution_count": 4,
      "outputs": []
    },
    {
      "cell_type": "code",
      "source": [
        "for i in range(3):\n",
        "    vals = rng.uniform(size=10)\n",
        "    print(vals)"
      ],
      "metadata": {
        "colab": {
          "base_uri": "https://localhost:8080/"
        },
        "id": "WSAsxm7ENmoH",
        "outputId": "ce606089-a160-4c55-a2f3-6b2f088f16b5"
      },
      "execution_count": 5,
      "outputs": [
        {
          "output_type": "stream",
          "name": "stdout",
          "text": [
            "[0.35508888 0.02802069 0.06729991 0.48469051 0.79655034 0.7639453\n",
            " 0.96908567 0.56545649 0.87339362 0.0930666 ]\n",
            "[0.44398809 0.21174987 0.89239979 0.19804297 0.32953857 0.22522735\n",
            " 0.94312645 0.01805941 0.46891955 0.5994245 ]\n",
            "[0.44401152 0.1093277  0.5127621  0.40039761 0.03553833 0.79917598\n",
            " 0.3507365  0.34880546 0.87561322 0.69701818]\n"
          ]
        }
      ]
    },
    {
      "cell_type": "markdown",
      "source": [
        "Here we turn on the GPU."
      ],
      "metadata": {
        "id": "0t3A2lkFPNAQ"
      }
    },
    {
      "cell_type": "code",
      "source": [
        "device_name = tf.test.gpu_device_name()\n",
        "if device_name != '/device:GPU:0':\n",
        "  raise SystemError('GPU device not found')\n",
        "print('Found GPU at: {}'.format(device_name))\n",
        "!nvidia-smi --query-gpu=gpu_name,driver_version,memory.total --format=csv"
      ],
      "metadata": {
        "id": "oPZsRTkWPQuT",
        "colab": {
          "base_uri": "https://localhost:8080/"
        },
        "outputId": "83208fb2-4f0d-4aec-d093-b33cab22127b"
      },
      "execution_count": null,
      "outputs": [
        {
          "output_type": "stream",
          "name": "stdout",
          "text": [
            "Found GPU at: /device:GPU:0\n",
            "name, driver_version, memory.total [MiB]\n",
            "Tesla T4, 460.32.03, 15109 MiB\n"
          ]
        }
      ]
    },
    {
      "cell_type": "markdown",
      "source": [
        "## Input pattern function\n",
        "Create input laser beam pattern."
      ],
      "metadata": {
        "id": "vNnW4u86QoIF"
      }
    },
    {
      "cell_type": "code",
      "source": [
        "def gen_in_circles(init_points_num, num_of_circ, rad_init):\n",
        "    # Calculate the amount of points\n",
        "    num_of_pts_total = 0\n",
        "    for i in range(1, num_of_circ+1):\n",
        "        num_of_pts_total = num_of_pts_total + init_points_num * i;\n",
        "    \n",
        "    out_pts = np.zeros((num_of_pts_total, 2))\n",
        "\n",
        "    # The output pattern consists coaxial circles\n",
        "    curr_pt = -1\n",
        "    for i in range(1, num_of_circ+1):\n",
        "        # Radius and amount of points in current circle\n",
        "        rad = rad_init * i\n",
        "        num_of_pts = init_points_num * i\n",
        "        for j in range(0,num_of_pts):\n",
        "            curr_pt = curr_pt + 1\n",
        "            out_pts[curr_pt] = [rad * math.cos(j/num_of_pts * 2 * math.pi), rad * math.sin(j/num_of_pts * 2 * math.pi)]\n",
        "            \n",
        "    return (out_pts, num_of_pts_total)"
      ],
      "metadata": {
        "id": "RJHfabxNSKFc"
      },
      "execution_count": 6,
      "outputs": []
    },
    {
      "cell_type": "markdown",
      "source": [
        "Show input pattern"
      ],
      "metadata": {
        "id": "A6TXYaEiH5IT"
      }
    },
    {
      "cell_type": "code",
      "source": [
        "in_pts, num_of_pts_total = gen_in_circles(24, 3, 800)\n",
        "\n",
        "plt.scatter(in_pts[:, 0], in_pts[:, 1])\n",
        "plt.gca().set_aspect('equal', adjustable='box')\n",
        "plt.show()"
      ],
      "metadata": {
        "colab": {
          "base_uri": "https://localhost:8080/",
          "height": 265
        },
        "id": "IPvhaJACH9OD",
        "outputId": "e2cc288c-3470-4dfe-ab8a-2f4a75520d95"
      },
      "execution_count": 11,
      "outputs": [
        {
          "output_type": "display_data",
          "data": {
            "text/plain": [
              "<Figure size 432x288 with 1 Axes>"
            ],
            "image/png": "[encoded data removed]"
          },
          "metadata": {
            "needs_background": "light"
          }
        }
      ]
    },
    {
      "cell_type": "markdown",
      "source": [
        "# Eye model functions\n",
        "In our case eye model will be very simple:\n",
        "+ all the input beams are parallel to the main optical axis of the eye\n",
        "+ all the input beams are converge on the retina in the point with the coordinates (0,0)\n",
        "+ aberrations described by Zernike coefficients cause beams to incline from the (0,0) "
      ],
      "metadata": {
        "id": "bB476ooNNeK2"
      }
    },
    {
      "cell_type": "markdown",
      "source": [
        "## osa2nm_gen(j_idx)\n",
        "This funcion converts OSA/ANSI index to `n` and `m` needed for calculation of Zernike polynomials, for more: \n",
        "https://en.wikipedia.org/wiki/Zernike_polynomials\n"
      ],
      "metadata": {
        "id": "lQpagbNHOxmE"
      }
    },
    {
      "cell_type": "code",
      "source": [
        "def osa2nm_gen(j_idx):\n",
        "    i = 0\n",
        "    curr_n = 0\n",
        "    n = []\n",
        "    m = []\n",
        "    while 1:\n",
        "        for idx in range(-curr_n, curr_n+1, 2):\n",
        "            n.append(curr_n)\n",
        "            m.append(idx)\n",
        "            i = i + 1\n",
        "            if (i >= j_idx):\n",
        "                n = np.array(n)\n",
        "                m = np.array(m)\n",
        "                return (n, m)   \n",
        "        \n",
        "        curr_n = curr_n + 1\n",
        "    "
      ],
      "metadata": {
        "id": "v8n0vycPPrk-"
      },
      "execution_count": 12,
      "outputs": []
    },
    {
      "cell_type": "code",
      "source": [
        "print(osa2nm_gen(28))"
      ],
      "metadata": {
        "colab": {
          "base_uri": "https://localhost:8080/"
        },
        "id": "-O43Gr1vzjdD",
        "outputId": "a708cd9e-d79b-4d5f-c8b7-0d1ff0978615"
      },
      "execution_count": null,
      "outputs": [
        {
          "output_type": "stream",
          "name": "stdout",
          "text": [
            "(array([0, 1, 1, 2, 2, 2, 3, 3, 3, 3, 4, 4, 4, 4, 4, 5, 5, 5, 5, 5, 5, 6,\n",
            "       6, 6, 6, 6, 6, 6]), array([ 0, -1,  1, -2,  0,  2, -3, -1,  1,  3, -4, -2,  0,  2,  4, -5, -3,\n",
            "       -1,  1,  3,  5, -6, -4, -2,  0,  2,  4,  6]))\n"
          ]
        }
      ]
    },
    {
      "cell_type": "markdown",
      "source": [
        "## calc_Rnm(ro, n, m)\n",
        "The function below calculates Rnm(ro) (formula 7 of the \n",
        "http://pbf.kpi.ua/en/docs/publications/Molebny_Retina_ray-tracing_technique.pdf - it has typo, here is the correct variant)"
      ],
      "metadata": {
        "id": "7B2Jgzu3bA6d"
      }
    },
    {
      "cell_type": "code",
      "source": [
        "from scipy.special import factorial as factorial\n",
        "\n",
        "def calc_Rnm(ro, n, m):\n",
        "    Rnm = 0.0\n",
        "    for k in range( int(( n-abs(m) )/2) + 1):\n",
        "        Rnm = Rnm + ((-1)**k) * factorial(n-k) * (ro**(n-2*k)) / \\\n",
        "        (factorial(k) * factorial((n+abs(m))/2 - k) * factorial((n-abs(m))/2 - k)) \n",
        "    return Rnm"
      ],
      "metadata": {
        "id": "pK83VRlLbWJ_"
      },
      "execution_count": 13,
      "outputs": []
    },
    {
      "cell_type": "markdown",
      "source": [
        "## calc_dRnm_dro(ro, n, m)\n",
        "The function below calculates partial derivative dRnm(ro)/dro \n",
        "(formula 14 of the \n",
        "http://pbf.kpi.ua/en/docs/publications/Molebny_Retina_ray-tracing_technique.pdf )"
      ],
      "metadata": {
        "id": "-W0-CpTumc2K"
      }
    },
    {
      "cell_type": "code",
      "source": [
        "def calc_dRnm_dro(ro, n, m):\n",
        "    dRnm_dro = 0.0\n",
        "    for k in range( int(( n-abs(m) )/2) + 1):\n",
        "        dRnm_dro = dRnm_dro + ((-1)**factorial(n-k)) * (n-2*k) * (ro**(n-2*k-1)) / \\\n",
        "            (factorial(k) * factorial( ( n-abs(m) )/2 - k ) * factorial(( n+abs(m) )/2-k))\n",
        "    return dRnm_dro"
      ],
      "metadata": {
        "id": "47rI0dqempLZ"
      },
      "execution_count": 14,
      "outputs": []
    },
    {
      "cell_type": "markdown",
      "source": [
        "## calc_A(in_pts, pupil_radius, C_idx)\n",
        "This function calculates the `A` matrix which gives inclination vector `F = [Ay; Ax]` after multiplication by Zernike coefficients `C`:\n",
        "`F = AC`"
      ],
      "metadata": {
        "id": "Jb9VrKLHp2pP"
      }
    },
    {
      "cell_type": "code",
      "source": [
        "def calc_A(in_pts, pupil_radius, C_idx):\n",
        "    # ipdb.set_trace()\n",
        "    # Get ro and phi for each input point\n",
        "    pts_num = np.size(in_pts, 0)\n",
        "    ro_in = np.zeros((pts_num, 1))\n",
        "    phi_in = np.zeros((pts_num, 1))\n",
        "    for i in range(pts_num):\n",
        "        ro_in[i], phi_in[i] = cmath.polar(in_pts[i,0] / pupil_radius + (in_pts[i,1] / pupil_radius) * 1j)\n",
        "    # phi_in = np.transpose((phi_in)[np.newaxis])\n",
        "    # ro_in = np.transpose((ro_in)[np.newaxis])\n",
        "    \n",
        "    #  ro_in = ro_in ./ pupil_radius;\n",
        "\n",
        "    # Get n and m for current C\n",
        "    n, m = osa2nm_gen(C_idx)\n",
        "    n = n[1:np.size(n,0)]\n",
        "    n = np.transpose((n)[np.newaxis])\n",
        "    m = m[1:np.size(m,0)]\n",
        "    m = np.transpose((m)[np.newaxis])\n",
        "\n",
        "    # Eye's diameter in meters to be compatible with traditional value of\n",
        "    # the eye's refraction index\n",
        "    R_eye = 0.023700\n",
        "    # Eye's refraction index\n",
        "    n_refr = 1.336\n",
        "    \n",
        "    # Calculare A - the matrix of numbers before Zernike coefficients\n",
        "    # - elements for dy's Cnm\n",
        "    Ay = np.zeros((np.size(in_pts,0), np.size(n,0)))\n",
        "    for i in range(np.size(in_pts,0)):\n",
        "        for j in range(np.size(n,0)):\n",
        "            if (m[j] >= 0):\n",
        "                Ay[i,j] = (R_eye/n_refr) * math.cos(phi_in[i]) * math.cos(m[j]*phi_in[i])* \\\n",
        "                    calc_dRnm_dro(ro_in[i], n[j], m[j]) + \\\n",
        "                    (R_eye/n_refr) * (math.sin(phi_in[i])/ro_in[i]) * m[j]* \\\n",
        "                    calc_Rnm(ro_in[i], n[j], m[j])*math.sin(m[j]*phi_in[i])\n",
        "            else:\n",
        "                Ay[i,j] = (R_eye/n_refr) * math.cos(phi_in[i]) * math.sin(-m[j]*phi_in[i])* \\\n",
        "                    calc_dRnm_dro(ro_in[i], n[j], m[j]) + \\\n",
        "                    (R_eye/n_refr) * (-math.sin(phi_in[i])/ro_in[i]) * (-m[j])* \\\n",
        "                    calc_Rnm(ro_in[i], n[j], m[j])*math.cos(-m[j]*phi_in[i])\n",
        "            \n",
        "    # - elements for dx's Cnm\n",
        "    Ax = np.zeros((np.size(in_pts,0), np.size(n,0)))\n",
        "    for i in range(np.size(in_pts,0)):\n",
        "        for j in range(np.size(n,0)):\n",
        "            if (m[j] >= 0):\n",
        "                Ax[i,j] = (R_eye/n_refr) * math.sin(phi_in[i]) * math.cos(m[j]*phi_in[i])* \\\n",
        "                    calc_dRnm_dro(ro_in[i], n[j], m[j]) + \\\n",
        "                    (R_eye/n_refr) * (-math.cos(phi_in[i])/ro_in[i]) * m[j]* \\\n",
        "                    calc_Rnm(ro_in[i], n[j], m[j])*math.sin(m[j]*phi_in[i])\n",
        "            else:\n",
        "                Ax[i,j] = (R_eye/n_refr) * math.sin(phi_in[i]) * math.sin(-m[j]*phi_in[i])* \\\n",
        "                    calc_dRnm_dro(ro_in[i], n[j], m[j]) + \\\n",
        "                    (R_eye/n_refr) * (math.cos(phi_in[i])/ro_in[i]) * (-m[j])* \\\n",
        "                    calc_Rnm(ro_in[i], n[j], m[j])*math.cos(-m[j]*phi_in[i])  \n",
        "\n",
        "    # Compose the full A matrix\n",
        "    A = np.concatenate((Ay, Ax), 0)\n",
        "\n",
        "    return A"
      ],
      "metadata": {
        "id": "37Ef5PxjrMVJ"
      },
      "execution_count": 15,
      "outputs": []
    },
    {
      "cell_type": "markdown",
      "source": [
        "## zernshift(ro, phi, C)\n",
        "This function calculates image shift `dx` and `dy` due to Zernike coeffecients `C` of eye's optical system. `ro` should be 0<=ro<=1. \n",
        "\n",
        "More info in section 4 of\n",
        "http://pbf.kpi.ua/en/docs/publications/Molebny_Retina_ray-tracing_technique.pdf "
      ],
      "metadata": {
        "id": "gqAbnaaSRRmI"
      }
    },
    {
      "cell_type": "code",
      "source": [
        "def zernshift(ro, phi, C):\n",
        "    # Get n and m for current C\n",
        "    n, m = osa2nm_gen(np.size(C, 0));\n",
        "    n = np.transpose(n)\n",
        "    m = np.transpose(m)\n",
        "\n",
        "    # Calculate shifts:\n",
        "    # 1. Calculate partial derivative dRnm(ro)/dro (formula 14 of the link)\n",
        "    dRnm_dro = np.zeros(np.size(n, 0))\n",
        "    for i in range(0, np.size(n,0)):\n",
        "        # ipdb.set_trace()\n",
        "        for k in range(0, int(( n[i]-abs(m[i]) )/2) + 1):\n",
        "            dRnm_dro[i] = dRnm_dro[i] + ((-1)**math.factorial(n[i]-k)) * (n[i]-2*k) * (ro**(n[i]-2*k-1)) / \\\n",
        "                (math.factorial(k) * math.factorial( ( n[i]-abs(m[i]) )/2 - k ) * math.factorial(( n[i]+abs(m[i]) )/2-k))\n",
        "\n",
        "    # 2. Calculate partial derivative dW(ro,phi)/dro (formula 13 of the link)\n",
        "    # ipdb.set_trace()\n",
        "    dW_dro = 0.0\n",
        "    for i in range(0, np.size(n,0)):\n",
        "        tmp = 0.0\n",
        "        if (m[i] < 0):\n",
        "            # It's odd polynomial's derivative\n",
        "            tmp = math.sin(abs(m[i]) * phi)\n",
        "        else:\n",
        "            # It's even polynomial's derivative\n",
        "            tmp = math.cos(m[i] * phi)\n",
        "\n",
        "        # Include norming coefficient Nnm\n",
        "        #  delta = 0\n",
        "        #  if (m(i) == 0):\n",
        "            #  delta = 1\n",
        "        #  \n",
        "        #  Nnm = sqrt(2 * (n(i)+1) / (1 + delta));\n",
        "        dW_dro = dW_dro + C[i] * dRnm_dro[i] * tmp\n",
        "    \n",
        "    # 3. Calculate Rnm(ro) (formula 7 of the link - it has typo, here is the correct variant)\n",
        "    Rnm = np.zeros(np.size(n, 0))\n",
        "    for i in range(0, np.size(n,0)):\n",
        "        for k in range(0, int((n[i]-abs(m[i]))/2) + 1):\n",
        "            Rnm[i] = Rnm[i] + ((-1)**k) * math.factorial(n[i]-k) * (ro**(n[i]-2*k)) / \\\n",
        "                (math.factorial(k) * math.factorial((n[i]+abs(m[i]))/2 - k) * math.factorial((n[i]-abs(m[i]))/2 - k))\n",
        "\n",
        "    # 4. Calculate partial derivative dW(ro,phi)/dphi (formula 15 of the link)\n",
        "    dW_dphi = 0.0\n",
        "    for i in range(0, np.size(n,0)):\n",
        "        tmp = 0.0\n",
        "        if (m[i] < 0):\n",
        "            # It's odd polynomial\n",
        "            tmp = math.cos(abs(m[i]) * phi);\n",
        "        else:\n",
        "            # It's even polynomial\n",
        "            tmp = -math.sin(m[i] * phi);\n",
        "        \n",
        "        # Include norming coefficient Nnm\n",
        "        #  delta = 0;\n",
        "        #  if m[i] == 0:\n",
        "            #  delta = 1\n",
        "        #  end\n",
        "        #  Nnm = sqrt(2 * (n(i)+1) / (1 + delta))\n",
        "        dW_dphi = dW_dphi + abs(m[i]) * C[i] * Rnm[i] * tmp\n",
        "    \n",
        "    # 5. Calculate shifts by themselves (formulas 11-12)\n",
        "    # Focal distance (radius of ideal spherical wavefront)in meters to be compatible with traditional value of\n",
        "    # the eye's refraction index\n",
        "    R_eye = 0.017\n",
        "    # Eye's refraction index\n",
        "    n_refr = 1.336\n",
        "    # Shifts (we swap x and y in formulas, because in the original Molebny's article they're swapped)\n",
        "    dx = (R_eye/n_refr) * (math.cos(phi) * dW_dro - math.sin(phi) * dW_dphi / ro)\n",
        "    dy = (R_eye/n_refr) * (math.sin(phi) * dW_dro + math.cos(phi) * dW_dphi / ro)\n",
        "\n",
        "    return (dx, dy)"
      ],
      "metadata": {
        "id": "wu3EVR3fRRDX"
      },
      "execution_count": 16,
      "outputs": []
    },
    {
      "cell_type": "markdown",
      "source": [
        "## zern_eye_model(x_in, y_in, pupil_radius, C)\n",
        "This function models human eye's optical system as\n",
        "a converging lens with aberration wavefront function defined by \n",
        "Zernike coefficients `C`. Pupil radius also has to be in um.\n",
        "If you want unaberrated output - just make `C = 0`."
      ],
      "metadata": {
        "id": "OxuFEQmlZQff"
      }
    },
    {
      "cell_type": "code",
      "source": [
        "def zern_eye_model(x_in, y_in, pupil_radius, C):\n",
        "    # Eyeball's diameter and focal distance in um\n",
        "    Diam_eye = 23700\n",
        "    F_dist = 17000\n",
        "\n",
        "    # Turn Cartesian coordinates into polar ones\n",
        "    ro_in, phi_in = cmath.polar(x_in + y_in * 1j)\n",
        "\n",
        "    # # Calculate unaberrated coordinates of input point (very simplified)\n",
        "    # ro_out = ro_in * (Diam_eye-F_dist) / F_dist\n",
        "    # phi_out = phi_in - cmath.pi\n",
        "    \n",
        "    # # Turn polar coordinates into Cartesian\n",
        "    # z = cmath.rect(ro_out, phi_out)\n",
        "    # x_out = z.real\n",
        "    # y_out = z.imag\n",
        "\n",
        "    # Add aberrations for Gaussian plane (in our case - focal plane)\n",
        "    dx_norm, dy_norm = zernshift(ro_in/pupil_radius, phi_in, C)\n",
        "    dx =  dx_norm*pupil_radius\n",
        "    dy =  dy_norm*pupil_radius\n",
        "\n",
        "    # Calculate shift caused by the aberration for the retina\n",
        "    # - consider shifted point in Gaussian plane as a pseudo-focal point and calculate ro and phi\n",
        "    ro_shift, phi_shift = cmath.polar((x_in - dx) + (y_in - dy) * 1j)\n",
        "    ro_shift_out = ro_shift * (Diam_eye-F_dist) / F_dist\n",
        "    phi_shift_out = phi_shift - cmath.pi\n",
        "    # - turn polar coordinates into Cartesian\n",
        "    z = cmath.rect(ro_shift_out, phi_shift_out)\n",
        "    x_out = z.real\n",
        "    y_out = z.imag\n",
        "    # - translate current coorfinates to the system with center in focal point again\n",
        "    x_out = x_out + dx\n",
        "    y_out = y_out + dy\n",
        "\n",
        "    # x_out = x_out + dx * pupil_radius\n",
        "    # y_out = y_out + dy * pupil_radius\n",
        "\n",
        "    return (x_out, y_out)"
      ],
      "metadata": {
        "id": "kNa7B3fjaMmZ"
      },
      "execution_count": 17,
      "outputs": []
    },
    {
      "cell_type": "markdown",
      "source": [
        "## get_aber_val_pt(ro, phi, C)\n",
        "\n",
        "This function is needed for getting aberration function value in concrete point."
      ],
      "metadata": {
        "id": "VcYaybppqVGS"
      }
    },
    {
      "cell_type": "code",
      "source": [
        "# ATTENTION !!! ZERNIKE COEFFICIENTS ARE NOT MULTIPLIED BY N IN THIS FUNCTION !!\n",
        "\n",
        "def get_aber_val_pt(ro, phi, C):\n",
        "    if (ro > 1.0):\n",
        "        return 0.0\n",
        "    else:\n",
        "        # Get n and m for current C\n",
        "        n, m = osa2nm_gen(np.size(C, 0));\n",
        "        n = np.transpose(n)\n",
        "        m = np.transpose(m)\n",
        "\n",
        "        # Calculate aberration function value\n",
        "        W_val = 0.0\n",
        "        for i in range(0, np.size(n,0)):\n",
        "            # Get Rnm(ro) value\n",
        "            Rnm = calc_Rnm(ro, n[i], m[i])\n",
        "            # Choose sin or cos\n",
        "            tmp = 0.0\n",
        "            if (m[i] < 0):\n",
        "                # It's odd polynomial\n",
        "                tmp = math.sin(abs(m[i]) * phi)\n",
        "            else:\n",
        "                # It's even polynomial\n",
        "                tmp = math.cos(m[i] * phi)\n",
        "            W_val = W_val + C[i] * Rnm * tmp\n",
        "\n",
        "        return W_val\n"
      ],
      "metadata": {
        "id": "xhiPyxU7wQ6f"
      },
      "execution_count": 46,
      "outputs": []
    },
    {
      "cell_type": "markdown",
      "source": [
        "## get_aber_img(C, res = (100,100))\n",
        "\n",
        "This function build aberration image of the eye."
      ],
      "metadata": {
        "id": "4uzxyrtS0l7N"
      }
    },
    {
      "cell_type": "code",
      "source": [
        "def get_aber_img(C, res = (100,100)):\n",
        "    H, W = res[0], res[1]\n",
        "    aber_img = np.zeros((H,W))\n",
        "\n",
        "    # Compose array of probing coordinates\n",
        "    ros = np.zeros((H,W))\n",
        "    phis = np.zeros((H,W))\n",
        "    for i in range(0, H):\n",
        "        for j in range(0, W):\n",
        "            x = (i - W/2.0) / (W/2.0) \n",
        "            y = (j - H/2.0) / (H/2.0) \n",
        "            ros[i,j], phis[i,j] = cmath.polar(x + y * 1j)\n",
        "\n",
        "    # Calculate waveform function values\n",
        "    for i in range(0, H):\n",
        "        for j in range(0, W):\n",
        "            aber_img[i,j] = get_aber_val_pt(ros[i,j], phis[i,j], C)\n",
        "\n",
        "    return aber_img"
      ],
      "metadata": {
        "id": "m7lq-8kv1FuN"
      },
      "execution_count": 47,
      "outputs": []
    },
    {
      "cell_type": "markdown",
      "source": [
        "## zern_C_calc(A, out_pts, pupil_radius)\n",
        "The function below calculates Zernike coefficients using Least Squares method."
      ],
      "metadata": {
        "id": "j3uYfsCWI1DE"
      }
    },
    {
      "cell_type": "code",
      "source": [
        "def zern_C_calc(A, out_pts, pupil_radius):\n",
        "    # Compose the F matrix (we divide by pupil raduis in order to norm\n",
        "    # values)\n",
        "    F = np.concatenate((out_pts[:,1] / pupil_radius, out_pts[:,0] / pupil_radius), 0)\n",
        "\n",
        "    # Calculate C using the method of least squares\n",
        "    c_out = np.matmul(np.matmul(np.linalg.inv(np.matmul(np.transpose(A), A)), np.transpose(A)), F)\n",
        "\n",
        "    # We consider the coefficient with n=m=0 equal to 0s\n",
        "    c_out = np.concatenate((np.array([0.0]), c_out), 0)\n",
        "    return c_out"
      ],
      "metadata": {
        "id": "e9BQGElFJi5u"
      },
      "execution_count": 18,
      "outputs": []
    },
    {
      "cell_type": "markdown",
      "source": [
        "# Data preparation\n",
        "We create a dataset consisting of laser spots on retina caused by parallel input laser beams directed in the eye and inclined by aberrations."
      ],
      "metadata": {
        "id": "c1dRJlWAQj5U"
      }
    },
    {
      "cell_type": "code",
      "source": [
        "# Amount of dataset elements\n",
        "samples_num = 10\n",
        "train_valid_separation_coeff = 0.8\n",
        "train_idxs = np.array(range(0, int(samples_num*train_valid_separation_coeff)))\n",
        "valid_idxs = np.array(range(int(samples_num*train_valid_separation_coeff), samples_num))\n",
        "\n",
        "# # Mins and maxes of Zernike coefficients (in um)\n",
        "# C_min_max = np.array([\n",
        "#     [0.000, 0.000],     # n=0, m=0\n",
        "#     [0.000, 0.000],      # n=1, m=-1\n",
        "#     [0.000, 0.000],      # n=1, m=1\n",
        "#     [-1.50, 1.50],      # n=2, m=-2\n",
        "#     [-1.00, 8.00],      # n=2, m=0\n",
        "#     [-2.00, 1.00],      # n=2, m=2\n",
        "#     [-0.50, 0.50],      # n=3, m=-3\n",
        "#     [-0.50, 0.50],      # n=3, m=-1\n",
        "#     [-0.50, 0.50],      # n=3, m=1\n",
        "#     [-0.50, 0.50],      # n=3, m=3\n",
        "#     [-0.50, 0.50],      # n=4, m=-4\n",
        "#     [-0.50, 0.50],      # n=4, m=-2\n",
        "#     [-0.50, 0.50],      # n=4, m=0\n",
        "#     [-0.50, 0.50],      # n=4, m=2\n",
        "#     [-0.50, 0.50],      # n=4, m=4\n",
        "#     [-0.50, 0.50],      # n=5, m=-5\n",
        "#     [-0.50, 0.50],      # n=5, m=-3\n",
        "#     [-0.50, 0.50],      # n=5, m=-1\n",
        "#     [-0.50, 0.50],      # n=5, m=1\n",
        "#     [-0.50, 0.50],      # n=5, m=3\n",
        "#     [-0.50, 0.50],      # n=5, m=5\n",
        "#     [-0.50, 0.50],      # n=6, m=-6\n",
        "#     [-0.50, 0.50],      # n=6, m=-4\n",
        "#     [-0.50, 0.50],      # n=6, m=-2\n",
        "#     [-0.50, 0.50],      # n=6, m=0\n",
        "#     [-0.50, 0.50],      # n=6, m=2\n",
        "#     [-0.50, 0.50],      # n=6, m=4\n",
        "#     [-0.50, 0.50]       # n=6, m=6\n",
        "# ])\n",
        "\n",
        "# # Generate random normalized Zernike coefficients\n",
        "# rng = np.random.default_rng(seed)\n",
        "# C_norm_rnd = rng.uniform(0.0, 1, (samples_num, np.size(C_min_max, 0)))\n",
        "# C_norm_rnd[:,0] = 0\n",
        "# C_rnd = np.matlib.repmat(C_min_max[:,0], samples_num, 1) + \\\n",
        "#             np.multiply(np.matlib.repmat(C_min_max[:,1] - C_min_max[:,0], samples_num, 1), \\\n",
        "#                       C_norm_rnd)\n",
        "\n",
        "# Mean values and standard deviations of Zernike coefficients (which define mean values and standard deviations of Zernike modes)\n",
        "C_avg_std = np.array([\n",
        "    [0.00, 0.00],     # n=0, m=0\n",
        "    [0.00, 0.00],     # n=1, m=-1\n",
        "    [0.00, 0.00],     # n=1, m=1\n",
        "    [0.000, 0.00],    # n=2, m=-2\n",
        "    [ 0, 0.4],    # n=2, m=0\n",
        "    [-0.4, 0.5],    # n=2, m=2\n",
        "    [-0.05, 0.1],      # n=3, m=-3\n",
        "    [0.0, 0.2],      # n=3, m=-1\n",
        "    [0.0, 0.1],      # n=3, m=1\n",
        "    [0.0, 0.1],      # n=3, m=3\n",
        "    [0.0, 0.1],      # n=4, m=-4\n",
        "    [0.0, 0.1],      # n=4, m=-2\n",
        "    [0.1, 0.1],      # n=4, m=0\n",
        "    [0.0, 0.1],      # n=4, m=2\n",
        "    [0.0, 0.1],      # n=4, m=4\n",
        "    [0.0, 0.05],      # n=5, m=-5\n",
        "    [0.0, 0.05],      # n=5, m=-3\n",
        "    [0.0, 0.05],      # n=5, m=-1\n",
        "    [0.0, 0.05],      # n=5, m=1\n",
        "    [0.0, 0.05],      # n=5, m=3\n",
        "    [0.0, 0.05],      # n=5, m=5\n",
        "    [0.0, 0.05],      # n=6, m=-6\n",
        "    [0.0, 0.05],      # n=6, m=-4\n",
        "    [0.0, 0.05],      # n=6, m=-2\n",
        "    [0.0, 0.05],      # n=6, m=0\n",
        "    [0.0, 0.05],      # n=6, m=2\n",
        "    [0.0, 0.05],      # n=6, m=4\n",
        "    [0.0, 0.05]       # n=6, m=6\n",
        "])\n",
        "\n",
        "# # Mean values and standard deviations of Zernike coefficients (which define mean values and standard deviations of Zernike modes)\n",
        "# C_avg_std = np.array([\n",
        "#     [0.00, 0.00],     # n=0, m=0\n",
        "#     [0.00, 0.00],     # n=1, m=-1\n",
        "#     [0.00, 0.00],     # n=1, m=1\n",
        "#     [0.000, 0.5],    # n=2, m=-2\n",
        "#     [ 3.5, 3.5],    # n=2, m=0\n",
        "#     [0, 0.8],    # n=2, m=2\n",
        "#     [-0.05, 0.1],      # n=3, m=-3\n",
        "#     [0.0, 0.2],      # n=3, m=-1\n",
        "#     [0.0, 0.2],      # n=3, m=1\n",
        "#     [0.0, 0.2],      # n=3, m=3\n",
        "#     [0.0, 0.2],      # n=4, m=-4\n",
        "#     [0.0, 0.2],      # n=4, m=-2\n",
        "#     [0.15, 0.1],      # n=4, m=0\n",
        "#     [0.0, 0.2],      # n=4, m=2\n",
        "#     [0.0, 0.2],      # n=4, m=4\n",
        "#     [0.0, 0.2],      # n=5, m=-5\n",
        "#     [0.0, 0.2],      # n=5, m=-3\n",
        "#     [0.0, 0.2],      # n=5, m=-1\n",
        "#     [0.0, 0.2],      # n=5, m=1\n",
        "#     [0.0, 0.2],      # n=5, m=3\n",
        "#     [0.0, 0.2],      # n=5, m=5\n",
        "#     [0.0, 0.2],      # n=6, m=-6\n",
        "#     [0.0, 0.2],      # n=6, m=-4\n",
        "#     [0.0, 0.2],      # n=6, m=-2\n",
        "#     [0.0, 0.2],      # n=6, m=0\n",
        "#     [0.0, 0.2],      # n=6, m=2\n",
        "#     [0.0, 0.2],      # n=6, m=4\n",
        "#     [0.0, 0.2]       # n=6, m=6\n",
        "# ])\n",
        "\n",
        "# Generate random normalized Zernike coefficients\n",
        "seed = 4962\n",
        "coeff = 1.0\n",
        "rng = np.random.default_rng(seed)\n",
        "C_rnd = np.zeros((samples_num, np.size(C_avg_std, 0)))\n",
        "for i in range(np.size(C_avg_std, 0)):\n",
        "    # C_rnd[:,i] = rng.normal(C_avg_std[i,0], C_avg_std[i,1],samples_num )\n",
        "    min_border, max_border = (-3*C_avg_std[i,1]*coeff+C_avg_std[i,0]), (3*C_avg_std[i,1]*coeff+C_avg_std[i,0])\n",
        "    tmp = rng.normal(C_avg_std[i,0], C_avg_std[i,1]*coeff,samples_num )\n",
        "    tmp = np.where(tmp > min_border, tmp, min_border)\n",
        "    tmp = np.where(tmp < max_border, tmp, max_border)\n",
        "    C_rnd[:,i] = tmp\n"
      ],
      "metadata": {
        "id": "vqR1DqdBElwE"
      },
      "execution_count": 23,
      "outputs": []
    },
    {
      "cell_type": "code",
      "source": [
        "print(np.amax(C_rnd[:,4]))"
      ],
      "metadata": {
        "colab": {
          "base_uri": "https://localhost:8080/"
        },
        "id": "RXxFFlYzERsG",
        "outputId": "71e19f5a-6159-47ab-d376-81d075048b5f"
      },
      "execution_count": 41,
      "outputs": [
        {
          "output_type": "stream",
          "name": "stdout",
          "text": [
            "1.5447038394919381\n"
          ]
        }
      ]
    },
    {
      "cell_type": "code",
      "source": [
        "# Multiply the coefficients by norming constant\n",
        "n, m = osa2nm_gen(np.size(C_avg_std, 0))\n",
        "n = np.transpose(n)\n",
        "m = np.transpose(m)\n",
        "\n",
        "Nnm = np.zeros((1,np.size(C_avg_std, 0)))\n",
        "for i in range(np.size(Nnm,1)):\n",
        "   Nnm[0,i] =  np.sqrt(2 * (n[i]+1) / (1 + int(m[i] == 0)))\n",
        "\n",
        "for i in range(np.size(C_rnd, 0)):\n",
        "    C_rnd[i,:] = np.multiply(C_rnd[i,:], Nnm)"
      ],
      "metadata": {
        "id": "2FpchKG0l0w3"
      },
      "execution_count": 25,
      "outputs": []
    },
    {
      "cell_type": "code",
      "source": [
        "pupil_radius = 2500\n",
        "circles = 3\n",
        "pts_in_circle = 40\n",
        "init_radius = 800\n",
        "in_pts, total_pts_num = gen_in_circles(pts_in_circle, circles, init_radius)\n",
        "\n",
        "# Create points on retina\n",
        "out_pts = np.zeros((samples_num, total_pts_num, 2))\n",
        "for i in range(samples_num):\n",
        "    for j in range(total_pts_num):\n",
        "        out_pts[i,j,0], out_pts[i,j,1] = zern_eye_model(in_pts[j,0], in_pts[j,1], pupil_radius, np.transpose((C_rnd[i, :])[np.newaxis]));"
      ],
      "metadata": {
        "id": "c10vDFCCwzwV"
      },
      "execution_count": 32,
      "outputs": []
    },
    {
      "cell_type": "code",
      "source": [
        "# Prepare data for clustering - sort points in sample by Y axis and turn it\n",
        "# to [X Y] vector\n",
        "out_pts_sorted = np.zeros((samples_num, total_pts_num, 2))\n",
        "orders = np.zeros((samples_num, total_pts_num))\n",
        "for i in range(0, samples_num):\n",
        "    order = np.argsort(out_pts[i,:,1])\n",
        "    tmp = out_pts[i,:,0]\n",
        "    out_pts_sorted[i,:,0] = tmp[order]\n",
        "    tmp = out_pts[i,:,1]\n",
        "    out_pts_sorted[i,:,1] = tmp[order]\n",
        "    orders[i,:] = order\n",
        "\n",
        "out_vectors = np.zeros((samples_num, total_pts_num*2))\n",
        "for i in range(0, samples_num):\n",
        "    out_vectors[i,:] = np.concatenate((out_pts_sorted[i,:,0], out_pts_sorted[i,:,1]), 0)\n",
        "\n",
        "# train_vectors = out_vectors[train_idxs]\n",
        "# valid_vectors = out_vectors[valid_idxs]"
      ],
      "metadata": {
        "id": "OAhMwXy2Pstm"
      },
      "execution_count": null,
      "outputs": []
    },
    {
      "cell_type": "markdown",
      "source": [
        "This function creates a pixel monochrome image of defined resolution from acquired points on the retina."
      ],
      "metadata": {
        "id": "LVlSsQJYo-Eo"
      }
    },
    {
      "cell_type": "code",
      "source": [
        "def pts2img(pts_x_y, scope_rad, res_h_w):\n",
        "    # Calculate coordinates of pixel centers based on image size and scope\n",
        "    # radius\n",
        "    # ipdb.set_trace()\n",
        "    pxl_cntrs_x = np.matlib.repmat( -scope_rad + np.arange(0, res_h_w[0]) * 2 * scope_rad / res_h_w[0], res_h_w[1], 1)\n",
        "    pxl_cntrs_y = np.matlib.repmat( np.transpose((scope_rad - np.arange(0, res_h_w[1]) * 2 * scope_rad / res_h_w[1])[np.newaxis]), 1, res_h_w[0])\n",
        "    pxl_cntrs_x = np.reshape(pxl_cntrs_x, (res_h_w[0]*res_h_w[1], 1))\n",
        "    pxl_cntrs_y = np.reshape(pxl_cntrs_y, (res_h_w[0]*res_h_w[1], 1))\n",
        "    pxl_cntrs = np.concatenate((pxl_cntrs_x, pxl_cntrs_y), axis = 1)\n",
        "\n",
        "    # Assign retina points to pixels by distance\n",
        "    tree = sc.spatial.KDTree(pxl_cntrs)\n",
        "    _, light_idxs = tree.query(pts_x_y, k = 1)\n",
        "\n",
        "    # Create image by itself\n",
        "    img = np.zeros(res_h_w[0] * res_h_w[1])\n",
        "    img = [1 if (idx in light_idxs) else 0 for idx in range(res_h_w[0] * res_h_w[1])]\n",
        "    img = np.reshape(img, res_h_w)\n",
        "\n",
        "    # Close image\n",
        "    # footprint = morphology.disk(7)\n",
        "    # img = morphology.dilation(img, footprint)\n",
        "    # footprint = morphology.square(2)\n",
        "    # img = morphology.erosion(img, footprint)\n",
        "    # img = morphology.skeletonize(img)\n",
        "    \n",
        "    # footprint = morphology.disk(1)\n",
        "    # img = morphology.dilation(img, footprint)\n",
        "    # footprint = morphology.square(1)\n",
        "    # img = morphology.erosion(img, footprint)\n",
        "    # img = morphology.skeletonize(img)\n",
        "\n",
        "    return img\n",
        "\n",
        "# Set resoultion for images\n",
        "H, W = (92, 92)\n",
        "scope_radius = 1600\n",
        "\n",
        "# Turn points on the retina to images\n",
        "img_set = np.zeros((samples_num, H, W, 1))\n",
        "for i in range(samples_num):\n",
        "    img_set[i, :, :, 0] = pts2img(out_pts[i, :, :], scope_radius, (H, W))\n",
        "\n",
        "# Reshape images to vectors\n",
        "out_vectors = np.zeros((samples_num, H*W))\n",
        "for i in range(samples_num):\n",
        "    out_vectors[i] = np.reshape(img_set[i, :, :, 0], (1, H*W))"
      ],
      "metadata": {
        "id": "mxn3QGmRpFaq"
      },
      "execution_count": 42,
      "outputs": []
    },
    {
      "cell_type": "code",
      "source": [
        "plt.imshow(img_set[4, :, :, 0], cmap = \"gray\")"
      ],
      "metadata": {
        "colab": {
          "base_uri": "https://localhost:8080/",
          "height": 285
        },
        "id": "AQmQgMGkoYy8",
        "outputId": "93ff4729-a642-4dbc-dfee-44031618e70c"
      },
      "execution_count": 58,
      "outputs": [
        {
          "output_type": "execute_result",
          "data": {
            "text/plain": [
              "<matplotlib.image.AxesImage at 0x7f31486f8d50>"
            ]
          },
          "metadata": {},
          "execution_count": 58
        },
        {
          "output_type": "display_data",
          "data": {
            "text/plain": [
              "<Figure size 432x288 with 1 Axes>"
            ],
            "image/png": "[encoded data removed]"
          },
          "metadata": {
            "needs_background": "light"
          }
        }
      ]
    },
    {
      "cell_type": "code",
      "source": [
        "aber_img = get_aber_img(C_rnd[4])\n",
        "\n",
        "# Normalize image\n",
        "aber_img = aber_img / np.amax(np.abs(aber_img))\n",
        "plt.imshow(aber_img, cmap = \"gray\")"
      ],
      "metadata": {
        "colab": {
          "base_uri": "https://localhost:8080/",
          "height": 285
        },
        "id": "e1nQwRUs6_Sx",
        "outputId": "83085221-a0b5-4f68-86f3-6ad9e7c381f5"
      },
      "execution_count": 57,
      "outputs": [
        {
          "output_type": "execute_result",
          "data": {
            "text/plain": [
              "<matplotlib.image.AxesImage at 0x7f31484c4dd0>"
            ]
          },
          "metadata": {},
          "execution_count": 57
        },
        {
          "output_type": "display_data",
          "data": {
            "text/plain": [
              "<Figure size 432x288 with 1 Axes>"
            ],
            "image/png": "[encoded data removed]"
          },
          "metadata": {
            "needs_background": "light"
          }
        }
      ]
    },
    {
      "cell_type": "markdown",
      "source": [
        "Applly Fouriet transform to generated images"
      ],
      "metadata": {
        "id": "4F6R-FwDr7sC"
      }
    },
    {
      "cell_type": "code",
      "source": [
        "train_vectors = out_vectors[train_idxs]\n",
        "valid_vectors = out_vectors[valid_idxs]"
      ],
      "metadata": {
        "id": "tDbpcP2aLlMi"
      },
      "execution_count": null,
      "outputs": []
    },
    {
      "cell_type": "code",
      "source": [
        "print(out_pts[0,:,1])"
      ],
      "metadata": {
        "colab": {
          "base_uri": "https://localhost:8080/"
        },
        "id": "FBk0Z1ZDmJrE",
        "outputId": "645b7c34-541b-4766-a989-7ed36dba54bd"
      },
      "execution_count": null,
      "outputs": [
        {
          "output_type": "stream",
          "name": "stdout",
          "text": [
            "[  369.53142389    11.10180975  -685.40175361  -260.051687\n",
            "   -92.54625215   510.18365024   693.48733456   256.34047511\n",
            "  -216.2436118   -552.5470533   -865.16236883 -1026.58991242\n",
            "  -559.46524598  -289.49861865   -35.60571618   617.76408667\n",
            "  1044.4698112   1027.03355427  1018.61549747   450.6954041\n",
            "   -91.70552088  -121.19006849  -676.79311507 -1063.20623389\n",
            " -1147.30334247 -1409.44641597 -1199.33046048  -843.21712244\n",
            "  -435.96447558  -111.05597951   308.95154645  1084.18839135\n",
            "  1126.07689104  1187.37442811  1592.27479182  1320.67940902]\n"
          ]
        }
      ]
    },
    {
      "cell_type": "code",
      "source": [
        "\n",
        "idx = 1\n",
        "\n",
        "healthy_pts = np.zeros((total_pts_num, 2))\n",
        "for j in range(total_pts_num):\n",
        "    healthy_pts[j,0], healthy_pts[j,1] = zern_eye_model(in_pts[j,0], in_pts[j,1], pupil_radius, np.array([0]))\n",
        "\n",
        "# for i in range(800):\n",
        "print(\"idx: \" + str(i))\n",
        "plt.scatter(healthy_pts[:, 0], healthy_pts[:, 1], label = \"Без аберацій\")\n",
        "plt.scatter(out_pts_sorted[idx, :, 0], out_pts_sorted[idx, :, 1], marker = '^', label = \"З абераціями\")\n",
        "# plt.xlim([-1000, 1300])\n",
        "# plt.axis('scaled')\n",
        "plt.legend()\n",
        "plt.show()\n"
      ],
      "metadata": {
        "colab": {
          "base_uri": "https://localhost:8080/",
          "height": 284
        },
        "outputId": "3cbe14cf-b978-4b02-9bce-ccf00a0136ee",
        "id": "ehYH4JIVwtAR"
      },
      "execution_count": null,
      "outputs": [
        {
          "output_type": "stream",
          "name": "stdout",
          "text": [
            "idx: 3999\n"
          ]
        },
        {
          "output_type": "display_data",
          "data": {
            "text/plain": [
              "<Figure size 432x288 with 1 Axes>"
            ],
            "image/png": "[encoded data removed]"
          },
          "metadata": {
            "needs_background": "light"
          }
        }
      ]
    },
    {
      "cell_type": "code",
      "source": [
        "plt.scatter(out_pts_sorted[2, :, 0], out_pts_sorted[2, :, 1])\n",
        "plt.show()"
      ],
      "metadata": {
        "id": "4QgZj7NuZZ6C"
      },
      "execution_count": null,
      "outputs": []
    },
    {
      "cell_type": "markdown",
      "source": [
        "# Regression Effectiveness Check\n",
        "In this approach we'll use linear regression least squares method to compose \n",
        "approximation image. Assume that Zernike coefficients are weightened sum of all point's coordinates present in sorted vector: `C = X*R`, where `C` - Zernike coefficient, `X` - vector composed from points' sorted coordinates, `R` - regression coefficients."
      ],
      "metadata": {
        "id": "-W4GF7ctxj1o"
      }
    },
    {
      "cell_type": "code",
      "source": [
        "R = np.zeros((total_pts_num*2, np.size(C_min_max, 0)))\n",
        "\n",
        "R = np.transpose(R) # Needed for dimension alignment\n",
        "for i in range(np.size(C_min_max, 0)-1):\n",
        "    # ipdb.set_trace()\n",
        "    X = train_vectors\n",
        "    X_T = np.transpose(X)\n",
        "    Y = np.transpose(C_rnd[train_idxs, i + 1])\n",
        "    tmp = np.matmul(X_T, X)\n",
        "    tmp = np.linalg.inv(tmp)\n",
        "    tmp = np.matmul(tmp, X_T)\n",
        "    tmp = np.matmul(tmp, Y)\n",
        "    R[i] = np.transpose(tmp)\n",
        "R = np.transpose(R) # Needed for dimension alignment\n",
        "\n",
        "# # Create approximate image\n",
        "# C_app = np.zeros((np.size(C_min_max, 0), 1))\n",
        "# for i in range(1, np.size(C_min_max, 0)):\n",
        "#     # ipdb.set_trace()\n",
        "#     C_app[i] = np.matmul(valid_vectors[valid_idx], R[:,i-1])\n",
        "\n",
        "# adj_app_pts = np.zeros((total_pts_num, 2))\n",
        "# for j in range(total_pts_num):\n",
        "#     adj_app_pts[j,0], adj_app_pts[j,1] = zern_eye_model(in_pts[j,0], in_pts[j,1], pupil_radius, C_app) "
      ],
      "metadata": {
        "id": "dipuzf70yYsa"
      },
      "execution_count": null,
      "outputs": []
    },
    {
      "cell_type": "markdown",
      "source": [
        "Polynomial regression preparation"
      ],
      "metadata": {
        "id": "5YQIDnNaPFyj"
      }
    },
    {
      "cell_type": "code",
      "source": [
        "# prepare polynomial features X (made of our sorted vectors)\n",
        "poly = PolynomialFeatures(2, include_bias=False)\n",
        "poly_features = poly.fit_transform(train_vectors)\n",
        "print(poly.n_output_features_)\n",
        "\n",
        "regr_list = []\n",
        "for i in range(np.size(C_avg_std, 0)-3):\n",
        "    poly_reg_model = sklearn.linear_model.LinearRegression()\n",
        "    poly_reg_model.fit(poly_features, C_rnd[train_idxs, i + 3])\n",
        "    regr_list.append(poly_reg_model)\n",
        "\n",
        "# print(regr_list[0].coef_)"
      ],
      "metadata": {
        "colab": {
          "base_uri": "https://localhost:8080/"
        },
        "id": "C1u8Q0HH3qR4",
        "outputId": "d2cbc12b-c034-43a3-a52a-e0deea170634"
      },
      "execution_count": null,
      "outputs": [
        {
          "output_type": "stream",
          "name": "stdout",
          "text": [
            "2700\n"
          ]
        }
      ]
    },
    {
      "cell_type": "markdown",
      "source": [
        "Prepare classification by distance and mathematical expectations"
      ],
      "metadata": {
        "id": "glJwyE6W3vlx"
      }
    },
    {
      "cell_type": "code",
      "source": [
        "def gaussian(x, std, mean):\n",
        "    return (1./(std*np.sqrt(2*np.pi)))*np.exp(-0.5*np.power((x-mean)/std,2))"
      ],
      "metadata": {
        "id": "JghNRQTOKWLB"
      },
      "execution_count": null,
      "outputs": []
    },
    {
      "cell_type": "code",
      "source": [
        "neighbor_num = 4\n",
        "nbrs = NearestNeighbors(algorithm='ball_tree', n_neighbors = neighbor_num).fit(train_vectors)\n",
        "\n",
        "munk_solver = Munkres()\n",
        "\n",
        "error_arr = np.zeros((np.size(valid_idxs, 0)))\n",
        "\n",
        "poly_features_valid = poly.fit_transform(valid_vectors)\n",
        "\n",
        "max_dist_sum = 0\n",
        "max_sum_idx = 0\n",
        "\n",
        "for i in range(np.size(valid_idxs,0)):\n",
        "    # nearest_vect_dist, nearest_vect_idxs = nbrs.kneighbors((valid_vectors[i])[np.newaxis])\n",
        "\n",
        "    # nearest_samples = out_pts[nearest_vect_idxs]\n",
        "    # app_sample = np.mean(nearest_samples, axis = 1)\n",
        "\n",
        "    # nearest_vect_dist[0] /= np.amax(nearest_vect_dist[0])\n",
        "    # weights = 1 - np.exp(nearest_vect_dist[0]) / np.sum(np.exp(nearest_vect_dist[0]))\n",
        "    # app_sample = np.zeros((total_pts_num, 2))\n",
        "    # for j in range(neighbor_num):\n",
        "    #     app_sample[:,0] = app_sample[:,0] + nearest_samples[0,j,:,0] * np.repeat(weights[j], total_pts_num)\n",
        "    #     app_sample[:,1] = app_sample[:,1] + nearest_samples[0,j,:,1] * np.repeat(weights[j], total_pts_num)\n",
        "\n",
        "    # app_sample = np.zeros((total_pts_num, 2))\n",
        "    # for j in range(total_pts_num):\n",
        "    #     app_sample[j] = geometric_median(nearest_samples[0,:,j])\n",
        "\n",
        "    # # Create approximate image (linear regression)\n",
        "    # C_app = np.zeros((np.size(C_min_max, 0), 1))\n",
        "    # for j in range(1, np.size(C_min_max, 0)):\n",
        "    #     # ipdb.set_trace()\n",
        "    #     C_app[j] = np.matmul(valid_vectors[i], R[:,j-1])\n",
        "\n",
        "    # Create approximate image (polynomial regression)\n",
        "    C_app = np.zeros((np.size(C_avg_std, 0), 1))\n",
        "    for j in range(3, np.size(C_avg_std, 0)):\n",
        "        C_app[j] = regr_list[j-3].predict(poly_features_valid[i].reshape(1, -1))\n",
        "\n",
        "    adj_app_pts = np.zeros((total_pts_num, 2))\n",
        "    for j in range(total_pts_num):\n",
        "        adj_app_pts[j,0], adj_app_pts[j,1] = zern_eye_model(in_pts[j,0], in_pts[j,1], pupil_radius, C_app) \n",
        "\n",
        "    dist_matrix = sc.spatial.distance.cdist(out_pts_sorted[valid_idxs[i]], adj_app_pts)\n",
        "\n",
        "    health_dist = sc.spatial.distance.cdist(out_pts_sorted[valid_idxs[i]], healthy_pts)\n",
        "    if (max_dist_sum < np.sum(health_dist)):\n",
        "        max_dist_sum = np.sum(health_dist)\n",
        "        max_sum_idx = i\n",
        "\n",
        "    indexes_m = munk_solver.compute(dist_matrix)\n",
        "    # indexes_nearest = np.argmin(dist_matrix, axis= 1)\n",
        "\n",
        "    error_arr[i] = 0\n",
        "\n",
        "    for j in range(total_pts_num):\n",
        "        if (orders[valid_idxs[i], j] != indexes_m[j][1]):\n",
        "            error_arr[i] = error_arr[i] + 1\n",
        "\n",
        "print(\"avg err: \" + str(np.mean(error_arr) / total_pts_num))\n",
        "print(\"max err: \" + str(np.amax(error_arr)) + \" (\" + str(np.argmax(error_arr)) + \")\")\n",
        "print(\"max sum idx: \" + str(max_sum_idx))\n",
        "print(\"max sum val: \" + str(max_dist_sum))"
      ],
      "metadata": {
        "colab": {
          "base_uri": "https://localhost:8080/"
        },
        "id": "eCnfUbpnXy9w",
        "outputId": "4326412d-bfeb-4f6e-86cf-fd71bd3e6094"
      },
      "execution_count": null,
      "outputs": [
        {
          "output_type": "stream",
          "name": "stdout",
          "text": [
            "avg err: 0.0\n",
            "max err: 0.0 (0)\n",
            "max sum idx: 0\n",
            "max sum val: 1339307.4226797756\n"
          ]
        }
      ]
    },
    {
      "cell_type": "code",
      "source": [
        "err_unique = np.unique(error_arr)\n",
        "# ipdb.set_trace()\n",
        "err_unique = err_unique[err_unique != 0]\n",
        "err_arr_show = error_arr[error_arr != 0]\n",
        "# err_hist_range = np.zeros((np.size(err_unique,0)*2))\n",
        "# for i in range(np.size(err_unique,0)):\n",
        "#     err_hist_range[i*2] = err_unique[i]-0.5\n",
        "#     err_hist_range[i*2+1] = err_unique[i]+0.5\n",
        "\n",
        "\n",
        "left_of_first_bin = err_unique.min() - 0.5\n",
        "right_of_last_bin = err_unique.max() + 0.5\n",
        "# plt.hist(err_arr_show, np.arange(left_of_first_bin, right_of_last_bin+1, 1))\n",
        "plt.hist(err_arr_show, np.arange(left_of_first_bin, right_of_last_bin+1, 1))\n",
        "plt.title(\"Histogram with 'auto' bins\")\n",
        "plt.show()"
      ],
      "metadata": {
        "colab": {
          "base_uri": "https://localhost:8080/",
          "height": 281
        },
        "id": "IPDwwqbhQ6ZN",
        "outputId": "41ff7019-7ee9-48f6-c77b-ca03189dda65"
      },
      "execution_count": null,
      "outputs": [
        {
          "output_type": "display_data",
          "data": {
            "text/plain": [
              "<Figure size 432x288 with 1 Axes>"
            ],
            "image/png": "[encoded data removed]"
          },
          "metadata": {
            "needs_background": "light"
          }
        }
      ]
    },
    {
      "cell_type": "code",
      "source": [
        "# Create approximate image (polynomial regression)\n",
        "idx = 0\n",
        "C_app = np.zeros((np.size(C_avg_std, 0), 1))\n",
        "for j in range(3, np.size(C_avg_std, 0)):\n",
        "    C_app[j] = regr_list[j-3].predict(poly_features_valid[idx].reshape(1, -1))\n",
        "adj_app_pts = np.zeros((total_pts_num, 2))\n",
        "for j in range(total_pts_num):\n",
        "    adj_app_pts[j,0], adj_app_pts[j,1] = zern_eye_model(in_pts[j,0], in_pts[j,1], pupil_radius, C_app) \n",
        "\n",
        "healthy_pts = np.zeros((total_pts_num, 2))\n",
        "for j in range(total_pts_num):\n",
        "    healthy_pts[j,0], healthy_pts[j,1] = zern_eye_model(in_pts[j,0], in_pts[j,1], pupil_radius, np.array([0, 0]))\n",
        "\n",
        "plt.scatter(healthy_pts[:, 0], healthy_pts[:, 1], c='green', marker = \"+\", label = \"Без аберацій\")\n",
        "plt.scatter(out_pts[valid_idxs[idx], :, 0], out_pts[valid_idxs[idx], :, 1], marker=\"v\", c='red', label = \"Точки на сітківці\")\n",
        "plt.scatter(adj_app_pts[:, 0], adj_app_pts[:, 1], c='blue', marker = \"^\", label = \"Апроксимація\")\n",
        "plt.legend(loc='lower right')\n",
        "plt.show()"
      ],
      "metadata": {
        "colab": {
          "base_uri": "https://localhost:8080/",
          "height": 265
        },
        "id": "CvNRRKnuGbHo",
        "outputId": "c99ec774-9ae3-482e-866e-f18e39bdb9ed"
      },
      "execution_count": null,
      "outputs": [
        {
          "output_type": "display_data",
          "data": {
            "text/plain": [
              "<Figure size 432x288 with 1 Axes>"
            ],
            "image/png": "[encoded data removed]"
          },
          "metadata": {
            "needs_background": "light"
          }
        }
      ]
    },
    {
      "cell_type": "code",
      "source": [
        "print(C_rnd[valid_idxs[idx]])"
      ],
      "metadata": {
        "colab": {
          "base_uri": "https://localhost:8080/"
        },
        "id": "fX7HrZxiRVHq",
        "outputId": "232759a9-c17a-4ee0-a278-2beb5bc1d0b1"
      },
      "execution_count": null,
      "outputs": [
        {
          "output_type": "stream",
          "name": "stdout",
          "text": [
            "[ 0.          0.          0.          0.         -0.75490528 -0.98189756\n",
            " -0.05108749  0.22859851 -0.00703754  0.05712952 -0.06610138 -0.1421854\n",
            " -0.06169724 -0.14286485 -0.14912887  0.04265317  0.09949713  0.03999927\n",
            " -0.0360882  -0.01717211  0.00905289  0.0815906   0.05447295 -0.00811271\n",
            " -0.09068773  0.05069765 -0.02881582  0.02944756]\n"
          ]
        }
      ]
    },
    {
      "cell_type": "markdown",
      "source": [
        "# Miscellaneous paragraph"
      ],
      "metadata": {
        "id": "uUIKVokSpYCh"
      }
    },
    {
      "cell_type": "code",
      "source": [
        "x = []\n",
        "y = []\n",
        "for t in np.arange(-math.pi, math.pi, 0.01):\n",
        "    x.append(1 * math.cos(t) / math.pi)\n",
        "    y.append(1 * math.sin(t) / math.pi)\n",
        "\n",
        "plt.plot(x, y)\n",
        "plt.show()"
      ],
      "metadata": {
        "colab": {
          "base_uri": "https://localhost:8080/",
          "height": 265
        },
        "id": "0VUZhWNDIXqt",
        "outputId": "01a07328-1331-4186-e0a4-4e269d43ce0a"
      },
      "execution_count": null,
      "outputs": [
        {
          "output_type": "display_data",
          "data": {
            "text/plain": [
              "<Figure size 432x288 with 1 Axes>"
            ],
            "image/png": "[encoded data removed]"
          },
          "metadata": {
            "needs_background": "light"
          }
        }
      ]
    },
    {
      "cell_type": "code",
      "source": [
        "phis = np.arange(0, 2*math.pi, 0.01)\n",
        "ros = np.arange(0, 1, 0.01)\n",
        "mode = np.zeros((np.size(ros,0) * np.size(phis,0),))\n",
        "print(np.shape(mode))\n",
        "\n",
        "i = 0\n",
        "for ro in ros:\n",
        "    for phi in phis:\n",
        "        mode[i] = pow(12, 0.5)*(10*pow(ro,5) - 12*pow(ro,3) + 3*ro) * math.sin(phi)\n",
        "        # mode[i] = (10*pow(ro,5) - 12*pow(ro,3) + 3*ro) * math.sin(phi)\n",
        "        i = i + 1\n",
        "\n",
        "mode_mean = np.sum(mode) / i\n",
        "mode_std = np.std(mode)\n",
        "mode_variance = pow(mode_std, 2)\n",
        "print(mode_mean)\n",
        "print(mode_std)\n",
        "print(mode_variance)"
      ],
      "metadata": {
        "colab": {
          "base_uri": "https://localhost:8080/"
        },
        "id": "zY8FsRT-pdn5",
        "outputId": "44702e85-64ab-42f9-e516-826f2e088a79"
      },
      "execution_count": null,
      "outputs": [
        {
          "output_type": "stream",
          "name": "stdout",
          "text": [
            "(62900,)\n",
            "-9.67034858304608e-07\n",
            "0.9865296010559131\n",
            "0.9732406537595392\n"
          ]
        }
      ]
    }
  ]
}